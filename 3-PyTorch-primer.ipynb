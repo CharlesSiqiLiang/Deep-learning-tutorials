{
 "cells": [
  {
   "cell_type": "markdown",
   "metadata": {},
   "source": [
    "## A PyTorch Primer\n",
    "\n",
    "In this tutorial, we are going to dive into another commonly used deep learning library, PyTorch. Compared to TensorFlow, the syntax of PyTorch is easier, and usually PyTorch is more suitable for rapid development and experiment with new ideas. Here let's look at an example where we'll build a convolutional neural network, load the CIFAR10 dataset and train the network on the dataset."
   ]
  },
  {
   "cell_type": "code",
   "execution_count": 1,
   "metadata": {},
   "outputs": [
    {
     "name": "stdout",
     "output_type": "stream",
     "text": [
      "1.1.0\n"
     ]
    }
   ],
   "source": [
    "import torch\n",
    "import torch.nn as nn             # The object-oriented API\n",
    "import torch.nn.functional as F   # The functional API\n",
    "\n",
    "print(torch.__version__)\n",
    "\n",
    "import numpy as np\n",
    "import matplotlib.pyplot as plt\n",
    "%matplotlib inline"
   ]
  },
  {
   "cell_type": "markdown",
   "metadata": {},
   "source": [
    "### 1. Build a CNN model\n",
    "\n",
    "The first thing we're going to do is to build a neural network model using use the object-oriented API. To do this, we need to define a class for our model that inherits the <code>nn.Module</code> base class. There are two major things we need to define. The first is the <code>\\_\\_init\\_\\_</code> method where we need to define all layers of the neural network, and the second is the <code>forward</code> method which determines how input will be transformed to produce the output.\n",
    "\n",
    "The architecture of our network is as follows:\n",
    "<img src=\"files/LeNet-5.png\">"
   ]
  },
  {
   "cell_type": "markdown",
   "metadata": {},
   "source": [
    "#### TODO: Convolution filter"
   ]
  },
  {
   "cell_type": "code",
   "execution_count": 2,
   "metadata": {},
   "outputs": [],
   "source": [
    "class ConvNet(nn.Module): # Subclasses nn.Module\n",
    "    \n",
    "    # The constructor of the class should contain all layers with trainable parameters of the neural network.\n",
    "    def __init__(self):\n",
    "        \n",
    "        # Call the constructor of the base class.\n",
    "        super(ConvNet, self).__init__()\n",
    "        \n",
    "        # torch.nn contains pre-defined layers that are also subclasses of the nn.Module base class.\n",
    "        # The first two arguments of nn.Conv2d indicate `in_channels` and `out_channels`.\n",
    "        self.conv1 = nn.Conv2d(3, 6, kernel_size=5, stride=1, padding=0)\n",
    "        \n",
    "        # The pooling layer has no trainable parameters. It is also possible to use the functional interface.\n",
    "        # However, using the object-oriented interface allows us to add its hyperparameters to the argument of\n",
    "        # the constructor.\n",
    "        self.pool = nn.MaxPool2d(kernel_size=2, stride=2)\n",
    "        \n",
    "        self.conv2 = nn.Conv2d(6, 16, kernel_size=5, stride=1, padding=0)\n",
    "        \n",
    "        # The dense layers.\n",
    "        self.fc1 = nn.Linear(16 * 5 * 5, 120)\n",
    "        self.fc2 = nn.Linear(120, 84)\n",
    "        self.fc3 = nn.Linear(84, 10)\n",
    "    \n",
    "    # The `forward` method determines how input is tranformed into the output.\n",
    "    def forward(self, x): # `x` is the input tensor\n",
    "        \n",
    "        # Passing a tensor to a nn.Module instance invokes its `forward` method.\n",
    "        x = self.pool(F.relu(self.conv1(x)))  # Conv1 -> ReLU -> Pool\n",
    "        x = self.pool(F.relu(self.conv2(x)))  # Conv2 -> ReLU -> Pool\n",
    "        x = x.view(-1, 16 * 5 * 5)            # Flatten, converts from a 4D tensor of shape [batch_size, height, width, channel] \n",
    "                                              # to a 2D tensor of shape [batch_size, channel * height * width].\n",
    "        x = F.relu(self.fc1(x))               # Dense1\n",
    "        x = F.relu(self.fc2(x))               # Dense2\n",
    "        x = self.fc3(x)                       # Dense3\n",
    "        return x                              # Returns the `logits`"
   ]
  },
  {
   "cell_type": "code",
   "execution_count": 3,
   "metadata": {},
   "outputs": [],
   "source": [
    "net = ConvNet()  # Create a ConvNet instance."
   ]
  },
  {
   "cell_type": "markdown",
   "metadata": {},
   "source": [
    "### 2. Load CIFAR-10 data\n",
    "\n",
    "CIFAR-10 is a collection of images that are commonly used to train machine learning and computer vision algorithms. It is one of the most widely used datasets for machine learning research. The CIFAR-10 dataset contains 60,000 32x32 color images in 10 different classes. The 10 different classes represent airplanes, cars, birds, cats, deer, dogs, frogs, horses, ships, and trucks. There are 6,000 images of each class.\n",
    "\n",
    "Loading CIFAR-10 is very easy using the <code>torchvision</code> package, which is a part of PyTorch and contains popular datasets, model architectures and common image transformations for computer vision."
   ]
  },
  {
   "cell_type": "code",
   "execution_count": 4,
   "metadata": {},
   "outputs": [],
   "source": [
    "import torchvision\n",
    "import torchvision.transforms as transforms"
   ]
  },
  {
   "cell_type": "code",
   "execution_count": 5,
   "metadata": {},
   "outputs": [
    {
     "name": "stdout",
     "output_type": "stream",
     "text": [
      "Files already downloaded and verified\n",
      "Files already downloaded and verified\n"
     ]
    }
   ],
   "source": [
    "# The dataset contains PIL (Python image library) images. We need to do some transformations when loading.\n",
    "\n",
    "transform = transforms.Compose([\n",
    "    transforms.ToTensor(),  # Converts PIL image to tensor.\n",
    "    transforms.Normalize((0.5, 0.5, 0.5), (0.5, 0.5, 0.5)) # For each channel, transform values from [0, 1] to [-1, 1]. Not necessary.\n",
    "])\n",
    "\n",
    "# Load the training set and apply the above transformations.\n",
    "# `trainset` and `testset` are `torch.utils.data.Dataset` instances.\n",
    "# For other datasets, generate `torch.utils.data.Dataset` instances to store your data.\n",
    "trainset = torchvision.datasets.CIFAR10(root='./data', train=True, download=True, transform=transform)\n",
    "testset = torchvision.datasets.CIFAR10(root='./data', train=False, download=True, transform=transform)\n",
    "\n",
    "# Use subsets of the datasets since the original datasets are too large.\n",
    "# torch.utils.data.Dataset\n",
    "# torch.utils.data.DataLoader\n",
    "train_ind = np.random.choice(np.arange(50000, dtype=int), 10000, replace=False)\n",
    "test_ind = np.random.choice(np.arange(10000, dtype=int), 1000, replace=False)\n",
    "trainset = torch.utils.data.Subset(trainset, train_ind)\n",
    "testset = torch.utils.data.Subset(testset, test_ind)"
   ]
  },
  {
   "cell_type": "markdown",
   "metadata": {},
   "source": [
    "When loading a dataset, our final goal would be to generate a instance of the <code>torch.utils.data.DataLoader</code> class, which can handle a lot of data loading utilities. It is basically an iterable over a dataset, and supports functionalities such as automatic batching and multi-process data loading."
   ]
  },
  {
   "cell_type": "code",
   "execution_count": 10,
   "metadata": {},
   "outputs": [],
   "source": [
    "trainloader = torch.utils.data.DataLoader(trainset, batch_size=4, shuffle=True, num_workers=2) # Shuffle the training set and set a batch size of 4.\n",
    "testloader = torch.utils.data.DataLoader(testset, batch_size=4, shuffle=False, num_workers=2)  # No need to shuffle the test set."
   ]
  },
  {
   "cell_type": "code",
   "execution_count": 11,
   "metadata": {},
   "outputs": [],
   "source": [
    "# Let's define all the class labels.\n",
    "classes = ('plane', 'car', 'bird', 'cat', 'deer', 'dog', 'frog', 'horse', 'ship', 'truck')"
   ]
  },
  {
   "cell_type": "code",
   "execution_count": 12,
   "metadata": {},
   "outputs": [
    {
     "data": {
      "image/png": "[encoded data removed]",
      "text/plain": [
       "<Figure size 432x288 with 1 Axes>"
      ]
     },
     "metadata": {
      "needs_background": "light"
     },
     "output_type": "display_data"
    },
    {
     "name": "stdout",
     "output_type": "stream",
     "text": [
      " ship  ship   cat horse\n"
     ]
    }
   ],
   "source": [
    "# Here is what the images look like.\n",
    "\n",
    "def my_imshow(img):\n",
    "    img = img / 2 + 0.5     # unnormalize\n",
    "    plt.imshow(np.transpose(img.numpy(), (1, 2, 0))) # `plt.imshow()` is a function to plot images.\n",
    "    plt.show()\n",
    "\n",
    "# Get one batch of random training images\n",
    "dataiter = iter(trainloader)\n",
    "images, labels = dataiter.next()\n",
    "\n",
    "# Show images\n",
    "my_imshow(torchvision.utils.make_grid(images))\n",
    "# Print labels\n",
    "print(' '.join('%5s' % classes[labels[j]] for j in range(4)))"
   ]
  },
  {
   "cell_type": "markdown",
   "metadata": {},
   "source": [
    "### 3. Define a loss function and choose an optimizer\n",
    "\n",
    "Most commonly used loss functions can be found in the <code>torch.nn</code> submodule, and most optimizers can be found in the <code>torch.optim</code> submodule. "
   ]
  },
  {
   "cell_type": "code",
   "execution_count": 13,
   "metadata": {},
   "outputs": [],
   "source": [
    "import torch.optim as optim\n",
    "\n",
    "# For the multi-label classification task, we usually use the cross-entropy loss function.\n",
    "# For binary classification, we use the BCELoss. (Binary cross-entropy loss)\n",
    "# For regression, we usually use MSELoss. (Mean squared error loss)\n",
    "\n",
    "# Notice that the input is expected to contain raw, unnormalized scores for each class, e.g. the logits.\n",
    "# This is why we didn't add a softmax layer after the last fully-connected layer.\n",
    "\n",
    "criterion = nn.CrossEntropyLoss()\n",
    "\n",
    "\n",
    "# Let's use the Adam optimizer with a learning rate of 0.001.\n",
    "# 0.001 is a typical learning rate, and when tuning learning rates at the beginning, one usually tries in various orders of 10, \n",
    "# from high to low, e.g. 1, 0.1, 0.01, 0.001, ...\n",
    "# Weight decay ...\n",
    "\n",
    "optimizer = optim.Adam(net.parameters(), lr=0.001, weight_decay=0.0001)"
   ]
  },
  {
   "cell_type": "markdown",
   "metadata": {},
   "source": [
    "### 4. Train the neural network\n",
    "\n",
    "To train the neural network, we just need to iterate through our dataset and feed the input to the neural network model."
   ]
  },
  {
   "cell_type": "code",
   "execution_count": 14,
   "metadata": {},
   "outputs": [
    {
     "name": "stdout",
     "output_type": "stream",
     "text": [
      "Epoch 1: loss = 1.833\n",
      "Epoch 2: loss = 1.555\n",
      "Epoch 3: loss = 1.433\n",
      "Epoch 4: loss = 1.342\n",
      "Epoch 5: loss = 1.259\n",
      "Epoch 6: loss = 1.177\n",
      "Epoch 7: loss = 1.098\n",
      "Epoch 8: loss = 1.024\n",
      "Epoch 9: loss = 0.947\n",
      "Epoch 10: loss = 0.864\n",
      "Epoch 11: loss = 0.796\n",
      "Epoch 12: loss = 0.723\n",
      "Epoch 13: loss = 0.655\n",
      "Epoch 14: loss = 0.614\n",
      "Epoch 15: loss = 0.559\n",
      "Epoch 16: loss = 0.508\n",
      "Epoch 17: loss = 0.469\n",
      "Epoch 18: loss = 0.428\n",
      "Epoch 19: loss = 0.409\n",
      "Epoch 20: loss = 0.374\n"
     ]
    }
   ],
   "source": [
    "device = torch.device('cuda:1') # GPU 1, the second GPU on this server.\n",
    "net = net.to(device) # Move the model to the GPU\n",
    "\n",
    "loss_per_epoch = []\n",
    "for epoch in range(20): # Train for 20 epochs.\n",
    "    running_loss = []\n",
    "    for i, data in enumerate(trainloader):\n",
    "        inputs, labels = data # Get the inputs; data is a list of [inputs, labels]\n",
    "        # Move inputs and labels to the GPU\n",
    "        inputs = inputs.to(device)\n",
    "        labels = labels.to(device)\n",
    "        \n",
    "        # By default, the optimizer will not clear up the gradient.\n",
    "        # from the previous backpropagation step.\n",
    "        # If we do not clear up the gradient, gradients will be automatically added up.\n",
    "        # Therefore, we need to manually zero out the gradient before each step.\n",
    "        \n",
    "        # More precisely, each trainable parameter in PyTorch maintains a `grad` variable, which will not automatically\n",
    "        # be cleared after each backpropagation step. This is when `zero_grad()` comes into play. In optimizers where\n",
    "        # quantities about previous gradients need to be documented, they will be stored in the `state` variable of the\n",
    "        # parameter.\n",
    "        optimizer.zero_grad()\n",
    "        \n",
    "        # One iteration: forward + backward\n",
    "        outputs = net(inputs)             # Feed the input to the network.\n",
    "        loss = criterion(outputs, labels) # Calculate loss.\n",
    "        loss.backward()                   # Compute gradient for every trainable parameter.\n",
    "        optimizer.step()                  # Perform a parameter update based on the current gradient and the update rule.\n",
    "        \n",
    "        # Accumulate loss\n",
    "        running_loss += [loss.item()]\n",
    "    loss_per_epoch.append(np.mean(running_loss))\n",
    "    print('Epoch %d: loss = %.3f' % (epoch + 1, np.mean(running_loss)))"
   ]
  },
  {
   "cell_type": "code",
   "execution_count": 17,
   "metadata": {},
   "outputs": [
    {
     "data": {
      "image/png": "[encoded data removed]",
      "text/plain": [
       "<Figure size 288x288 with 1 Axes>"
      ]
     },
     "metadata": {
      "needs_background": "light"
     },
     "output_type": "display_data"
    }
   ],
   "source": [
    "fig, ax = plt.subplots()\n",
    "fig.set_figwidth(4)\n",
    "fig.set_figheight(4)\n",
    "\n",
    "ax.plot(np.arange(20) + 1, loss_per_epoch, lw=1, color='#fb8072', marker='o', markersize=3)\n",
    "ax.set_xticks(np.arange(0, 20, 3))\n",
    "ax.set_yticks(np.arange(0, 2, 1))\n",
    "ax.set_xlabel('Epoch', fontsize=12)\n",
    "ax.set_ylabel('Agerage loss', fontsize=12)\n",
    "ax.grid(True, ls='--')"
   ]
  },
  {
   "cell_type": "markdown",
   "metadata": {},
   "source": [
    "### 5. Test the neural network\n",
    "\n",
    "To test the neural network, we just need to fix all parameters of the neural network and calculate the predicted label."
   ]
  },
  {
   "cell_type": "code",
   "execution_count": 18,
   "metadata": {},
   "outputs": [
    {
     "name": "stdout",
     "output_type": "stream",
     "text": [
      "Accuracy of the network on the 1000 test images: 48 %\n"
     ]
    }
   ],
   "source": [
    "correct = 0\n",
    "total = 0\n",
    "\n",
    "with torch.no_grad(): # This basically sets the `requires_grad` flag of all parameters to false, i.e. no parameter is trainable.\n",
    "    for data in testloader: # Iterates through test data.\n",
    "        inputs, labels = data\n",
    "        # Move inputs and labels to the GPU\n",
    "        inputs = inputs.to(device)\n",
    "        labels = labels.to(device)\n",
    "        \n",
    "        # Forward pass\n",
    "        outputs = net(inputs) # `outputs` is a 2D tensor of [batch_size, 10].\n",
    "        \n",
    "        # Calculate predicted labels\n",
    "        _, predicted = torch.max(outputs.data, 1) # `predicted` is a 1D tensor of size [batch_size].\n",
    "        \n",
    "        # How many data points are there and how many are predicted correctly.\n",
    "        total += labels.size(0)\n",
    "        correct += (predicted == labels).sum().item()\n",
    "\n",
    "print('Accuracy of the network on the 1000 test images: %d %%' % (100 * correct / total))"
   ]
  },
  {
   "cell_type": "code",
   "execution_count": null,
   "metadata": {},
   "outputs": [],
   "source": []
  }
 ],
 "metadata": {
  "kernelspec": {
   "display_name": "pytorch",
   "language": "python",
   "name": "pytorch"
  },
  "language_info": {
   "codemirror_mode": {
    "name": "ipython",
    "version": 3
   },
   "file_extension": ".py",
   "mimetype": "text/x-python",
   "name": "python",
   "nbconvert_exporter": "python",
   "pygments_lexer": "ipython3",
   "version": "3.7.3"
  }
 },
 "nbformat": 4,
 "nbformat_minor": 2
}
